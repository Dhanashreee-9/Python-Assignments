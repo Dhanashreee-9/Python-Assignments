{
 "metadata": {
  "language_info": {
   "codemirror_mode": {
    "name": "ipython",
    "version": 3
   },
   "file_extension": ".py",
   "mimetype": "text/x-python",
   "name": "python",
   "nbconvert_exporter": "python",
   "pygments_lexer": "ipython3",
   "version": "3.8.3-final"
  },
  "orig_nbformat": 2,
  "kernelspec": {
   "name": "python38332bit60959874034c461da7363e3119acf689",
   "display_name": "Python 3.8.3 32-bit"
  }
 },
 "nbformat": 4,
 "nbformat_minor": 2,
 "cells": [
  {
   "cell_type": "code",
   "execution_count": 1,
   "metadata": {
    "tags": []
   },
   "outputs": [
    {
     "output_type": "stream",
     "name": "stdout",
     "text": "Port 2 become: {'FTP': 21, 'SSH': 22, 'telnet': 23, 'http': 80}\n"
    }
   ],
   "source": [
    "port1 = {21:\"FTP\",22:\"SSH\",23:\"telnet\",80:\"http\"} \n",
    "port2 ={value:key for key,value in port1.items()}\n",
    "print(\"Port 2 become:\",port2)"
   ]
  }
 ]
}